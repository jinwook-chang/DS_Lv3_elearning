{
 "cells": [
  {
   "cell_type": "markdown",
   "metadata": {},
   "source": [
    "# scipy stats 활용법"
   ]
  },
  {
   "cell_type": "code",
   "execution_count": 2,
   "metadata": {},
   "outputs": [],
   "source": [
    "import numpy as np\n",
    "import pandas as pd\n",
    "import matplotlib.pyplot as plt\n",
    "import scipy.stats as stats\n",
    "import statsmodels"
   ]
  },
  {
   "cell_type": "markdown",
   "metadata": {},
   "source": [
    "## scipy에서의 집단의 평균 비교 검정"
   ]
  },
  {
   "cell_type": "code",
   "execution_count": 31,
   "metadata": {},
   "outputs": [],
   "source": [
    "data = [6.03, 6.55, 6.37, 5.92, 6.16, 6.71, 5.69, 6.19]\n",
    "popmean = 6.5\n",
    "\n",
    "data1 = np.array([6.03, 6.55, 6.37, 5.92, 6.16, 6.71, 5.69, 6.19])\n",
    "data2 = data1 + 0.14 + np.random.randn(8)\n"
   ]
  },
  {
   "cell_type": "code",
   "execution_count": 32,
   "metadata": {},
   "outputs": [
    {
     "name": "stdout",
     "output_type": "stream",
     "text": [
      "-2.5198844093376693 0.03981726614435029\n"
     ]
    }
   ],
   "source": [
    "# 단일 표본 t-test\n",
    "from scipy.stats import ttest_1samp\n",
    "t_stat, p_value = ttest_1samp(data, popmean)\n",
    "print(t_stat, p_value)\n"
   ]
  },
  {
   "cell_type": "code",
   "execution_count": 33,
   "metadata": {},
   "outputs": [
    {
     "name": "stdout",
     "output_type": "stream",
     "text": [
      "0.35095718300190537 0.730845629433875\n"
     ]
    }
   ],
   "source": [
    "# 독립 표본 t-test (두 표본의 분산이 다를 경우 equal_var=False)\n",
    "from scipy.stats import ttest_ind\n",
    "t_stat, p_value = ttest_ind(data1, data2, equal_var=True)\n",
    "print(t_stat, p_value)\n"
   ]
  },
  {
   "cell_type": "code",
   "execution_count": 34,
   "metadata": {},
   "outputs": [
    {
     "name": "stdout",
     "output_type": "stream",
     "text": [
      "0.41752103435061916 0.6888056364127748\n"
     ]
    }
   ],
   "source": [
    "# 대응 표본 t-test (paired t-test)\n",
    "from scipy.stats import ttest_rel\n",
    "t_stat, p_value = ttest_rel(data1, data2)\n",
    "print(t_stat, p_value)\n"
   ]
  },
  {
   "cell_type": "code",
   "execution_count": 35,
   "metadata": {},
   "outputs": [
    {
     "name": "stdout",
     "output_type": "stream",
     "text": [
      "46.0 0.1605283605283605\n"
     ]
    }
   ],
   "source": [
    "# 비모수 검정 (Mann-Whitney U test) (독립 표본 t-test의 비모수 검정)\n",
    "from scipy.stats import mannwhitneyu\n",
    "t_stat, p_value = mannwhitneyu(data1, data2)\n",
    "print(t_stat, p_value)\n"
   ]
  },
  {
   "cell_type": "code",
   "execution_count": 36,
   "metadata": {},
   "outputs": [
    {
     "name": "stdout",
     "output_type": "stream",
     "text": [
      "11.0 0.3828125\n"
     ]
    }
   ],
   "source": [
    "# 비모수 검정 (Wilcoxon signed-rank test) (paired t-test의 비모수 검정)\n",
    "from scipy.stats import wilcoxon\n",
    "t_stat, p_value = wilcoxon(data1, data2)\n",
    "print(t_stat, p_value)\n"
   ]
  },
  {
   "cell_type": "markdown",
   "metadata": {},
   "source": [
    "## scipy에서의 집단의 분산 비교 검정\n",
    "\n",
    "독립 표본 t-test에서 equal_var를 어떤 값으로 주는지 정하기 위하여, 분산 비교 검정이 필요합니다.  \n",
    "또한 paired t-test에서 두 분산이 다를 경우, 비모수 검정을 해야하는데, 이 때에서 분산 비교 검정을 통해 분산을 확인해야합니다."
   ]
  },
  {
   "cell_type": "code",
   "execution_count": 39,
   "metadata": {},
   "outputs": [
    {
     "name": "stdout",
     "output_type": "stream",
     "text": [
      "10.582216665642523 0.001141806705696645\n"
     ]
    }
   ],
   "source": [
    "from scipy.stats import bartlett\n",
    "t_stat, p_value = bartlett(data1, data2)\n",
    "print(t_stat, p_value)"
   ]
  },
  {
   "cell_type": "markdown",
   "metadata": {},
   "source": [
    "## scipy에서의 정규성 검정\n",
    "\n",
    "\n",
    "\n"
   ]
  },
  {
   "cell_type": "code",
   "execution_count": 47,
   "metadata": {},
   "outputs": [
    {
     "data": {
      "text/plain": [
       "ShapiroResult(statistic=0.9868621587378561, pvalue=0.9886783489929436)"
      ]
     },
     "execution_count": 47,
     "metadata": {},
     "output_type": "execute_result"
    }
   ],
   "source": [
    "from scipy.stats import shapiro\n",
    "shapiro(data)"
   ]
  },
  {
   "cell_type": "code",
   "execution_count": 46,
   "metadata": {},
   "outputs": [
    {
     "data": {
      "text/plain": [
       "KstestResult(statistic=0.9999999936480314, pvalue=5.300254773218593e-66, statistic_location=5.69, statistic_sign=-1)"
      ]
     },
     "execution_count": 46,
     "metadata": {},
     "output_type": "execute_result"
    }
   ],
   "source": [
    "from scipy.stats import kstest\n",
    "kstest(data, stats.norm.cdf)"
   ]
  },
  {
   "cell_type": "code",
   "execution_count": 45,
   "metadata": {},
   "outputs": [
    {
     "data": {
      "text/plain": [
       "SignificanceResult(statistic=0.290872170672432, pvalue=0.8646451518120876)"
      ]
     },
     "execution_count": 45,
     "metadata": {},
     "output_type": "execute_result"
    }
   ],
   "source": [
    "from scipy.stats import jarque_bera\n",
    "jarque_bera(data)"
   ]
  },
  {
   "cell_type": "markdown",
   "metadata": {},
   "source": [
    "## scipy에서의 범주형 자료 분석\n"
   ]
  },
  {
   "cell_type": "code",
   "execution_count": 52,
   "metadata": {},
   "outputs": [
    {
     "name": "stdout",
     "output_type": "stream",
     "text": [
      "Survived    0    1\n",
      "Pclass            \n",
      "1          80  136\n",
      "2          97   87\n",
      "3         368  119\n"
     ]
    },
    {
     "data": {
      "text/plain": [
       "Chi2ContingencyResult(statistic=101.21674250560609, pvalue=1.0496962042983216e-22, dof=2, expected_freq=array([[132.71702368,  83.28297632],\n",
       "       [113.05524239,  70.94475761],\n",
       "       [299.22773393, 187.77226607]]))"
      ]
     },
     "execution_count": 52,
     "metadata": {},
     "output_type": "execute_result"
    }
   ],
   "source": [
    "from scipy.stats import chi2_contingency\n",
    "\n",
    "df_titanic = pd.read_csv('https://web.stanford.edu/class/archive/cs/cs109/cs109.1166/stuff/titanic.csv')\n",
    "\n",
    "O_conti = pd.crosstab(df_titanic['Pclass'], df_titanic['Survived'])\n",
    "print(O_conti)\n",
    "chi2_contingency(O_conti)"
   ]
  },
  {
   "cell_type": "code",
   "execution_count": 57,
   "metadata": {},
   "outputs": [
    {
     "data": {
      "text/plain": [
       "SignificanceResult(statistic=0.10746585143274623, pvalue=2.485202589459607e-06)"
      ]
     },
     "execution_count": 57,
     "metadata": {},
     "output_type": "execute_result"
    }
   ],
   "source": [
    "df_norm = df_titanic[['Age', 'Fare']]\n",
    "df_norm = df_norm.dropna()\n",
    "df_norm['Age'] = df_norm['Age'].apply(lambda x: (x-df_norm['Age'].mean())/df_norm['Age'].std())\n",
    "df_norm['Fare'] = df_norm['Fare'].apply(lambda x: (x-df_norm['Fare'].mean())/df_norm['Fare'].std())\n",
    "\n",
    "from scipy.stats import pearsonr\n",
    "pearsonr(df_norm['Age'], df_norm['Fare'])\n",
    "\n",
    "from scipy.stats import spearmanr\n",
    "spearmanr(df_norm['Age'], df_norm['Fare']) # 비선형 상관 관계의 단조 관계\n",
    "\n",
    "from scipy.stats import kendalltau # 비선형 상관 관계의 일관성\n",
    "kendalltau(df_norm['Age'], df_norm['Fare'])"
   ]
  }
 ],
 "metadata": {
  "kernelspec": {
   "display_name": "base",
   "language": "python",
   "name": "python3"
  },
  "language_info": {
   "codemirror_mode": {
    "name": "ipython",
    "version": 3
   },
   "file_extension": ".py",
   "mimetype": "text/x-python",
   "name": "python",
   "nbconvert_exporter": "python",
   "pygments_lexer": "ipython3",
   "version": "3.12.4"
  }
 },
 "nbformat": 4,
 "nbformat_minor": 2
}
